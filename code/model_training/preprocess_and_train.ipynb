{
 "cells": [
  {
   "cell_type": "code",
   "execution_count": 15,
   "metadata": {},
   "outputs": [],
   "source": [
    "import numpy             as np\n",
    "import pandas            as pd\n",
    "import tensorflow        as tf\n",
    "import matplotlib.pyplot as plt\n",
    "\n",
    "from sklearn                 import svm\n",
    "from sklearn.metrics         import plot_confusion_matrix, ConfusionMatrixDisplay, top_k_accuracy_score"
   ]
  },
  {
   "cell_type": "code",
   "execution_count": 17,
   "metadata": {},
   "outputs": [],
   "source": [
    "%run preprocess_data.ipynb"
   ]
  },
  {
   "cell_type": "markdown",
   "metadata": {},
   "source": [
    "## SVM (linear, rbf, poly)"
   ]
  },
  {
   "cell_type": "code",
   "execution_count": null,
   "metadata": {},
   "outputs": [],
   "source": [
    "svm_classifier = svm.SVC(kernel='linear', probability=True, C=1, decision_function_shape='ovo').fit(X_train_normal, y_train)\n",
    "y_preds = svm_classifier.predict_proba(X_test_normal)\n",
    "print(f'linear score (accuracy)\\t: {svm_classifier.score(X_test_normal, y_test)}')\n",
    "print(f'\\tlinear score (top-2)\\t: {top_k_accuracy_score(y_test, y_preds, k=2, labels=labels)}')\n",
    "\n",
    "svm_classifier = svm.SVC(kernel='rbf',    probability=True, C=1, decision_function_shape='ovo').fit(X_train_normal, y_train)\n",
    "y_preds = svm_classifier.predict_proba(X_test_normal)\n",
    "print(f'rbf score (accuracy)\\t: {svm_classifier.score(X_test_normal, y_test)}')\n",
    "print(f'\\tlinear score (top-2)\\t: {top_k_accuracy_score(y_test, y_preds, k=2, labels=labels)}')\n",
    "\n",
    "svm_classifier = svm.SVC(kernel='poly',   probability=True, C=c, decision_function_shape='ovo').fit(X_train_normal, y_train)\n",
    "y_preds = svm_classifier.predict_proba(X_test_normal)\n",
    "print(f'poly score (accuracy)\\t: {svm_classifier.score(X_test_normal, y_test)}')\n",
    "print(f'\\tlinear score (top-2)\\t: {top_k_accuracy_score(y_test, y_preds, k=2, labels=labels)}')"
   ]
  },
  {
   "cell_type": "markdown",
   "metadata": {},
   "source": [
    "## Neural Network"
   ]
  },
  {
   "cell_type": "code",
   "execution_count": null,
   "metadata": {},
   "outputs": [],
   "source": [
    "tf.random.set_seed(11235)\n",
    "\n",
    "model = tf.keras.Sequential([\n",
    "    tf.keras.layers.Dense(50, input_dim=X_train_normal.shape[1], activation='relu', kernel_initializer='he_uniform'),\n",
    "    tf.keras.layers.Dense(30, activation='relu', kernel_initializer='he_uniform'),\n",
    "    tf.keras.layers.Dense(20, activation='relu', kernel_initializer='he_uniform'),\n",
    "    tf.keras.layers.Dense(10, activation='relu', kernel_initializer='he_uniform'),\n",
    "    tf.keras.layers.Dense(len(np.unique(y)), activation='softmax', kernel_initializer='he_uniform')\n",
    "])\n",
    "\n",
    "model_metrics = ['sparse_categorical_accuracy', \n",
    "                 tf.metrics.SparseTopKCategoricalAccuracy(k=2)]\n",
    "                \n",
    "model.compile(loss='sparse_categorical_crossentropy', \\\n",
    "              #optimizer=tf.keras.optimizers.Adam(learning_rate=0.001), \\\n",
    "              optimizer='sgd', \\\n",
    "              metrics=model_metrics, \\\n",
    "              steps_per_execution=50)\n",
    "\n",
    "history = model.fit(X_train_normal, y_train, epochs=200, batch_size=256, verbose=2)"
   ]
  },
  {
   "cell_type": "code",
   "execution_count": null,
   "metadata": {},
   "outputs": [],
   "source": [
    "print(history.history['sparse_categorical_accuracy'][-1], '\\t', \\\n",
    "      history.history['sparse_top_k_categorical_accuracy'][-1])\n",
    "\n",
    "plt.rcParams.update({'figure.autolayout': True})\n",
    "fig, axs = plt.subplots(2)\n",
    "plt.xlabel('epoch')\n",
    "\n",
    "axs[0].plot(history.history['sparse_top_k_categorical_accuracy'][3:])\n",
    "axs[0].set_title(\"top-2 accuracy\")\n",
    "\n",
    "axs[1].plot(history.history['loss'][3:])\n",
    "axs[1].set_title(\"\\nloss\")\n",
    "plt.show()"
   ]
  },
  {
   "cell_type": "code",
   "execution_count": null,
   "metadata": {},
   "outputs": [],
   "source": [
    "class estimator:\n",
    "  _estimator_type = ''\n",
    "  classes_=[]\n",
    "  def __init__(self, model, classes):\n",
    "    self.model = model\n",
    "    self._estimator_type = 'classifier'\n",
    "    self.classes_ = classes\n",
    "  def predict(self, X):\n",
    "    y_prob= self.model.predict(X)\n",
    "    y_pred = y_prob.argmax(axis=1)\n",
    "    return y_pred\n",
    "\n",
    "classifier = estimator(model, list(all_data_df['label'].unique()))\n",
    "\n",
    "figsize = (12,12)\n",
    "tmp = ConfusionMatrixDisplay.from_estimator(estimator=classifier, \n",
    "                                            X=X_test_normal, \n",
    "                                            y=y_test, \n",
    "                                            cmap='Blues', \n",
    "                                            normalize='true', \n",
    "                                            ax=plt.subplots(figsize=figsize)[1])"
   ]
  },
  {
   "cell_type": "code",
   "execution_count": null,
   "metadata": {},
   "outputs": [],
   "source": []
  }
 ],
 "metadata": {
  "kernelspec": {
   "display_name": "Python 3.10.6 64-bit",
   "language": "python",
   "name": "python3"
  },
  "language_info": {
   "codemirror_mode": {
    "name": "ipython",
    "version": 3
   },
   "file_extension": ".py",
   "mimetype": "text/x-python",
   "name": "python",
   "nbconvert_exporter": "python",
   "pygments_lexer": "ipython3",
   "version": "3.10.6"
  },
  "orig_nbformat": 4,
  "vscode": {
   "interpreter": {
    "hash": "26de051ba29f2982a8de78e945f0abaf191376122a1563185a90213a26c5da77"
   }
  }
 },
 "nbformat": 4,
 "nbformat_minor": 2
}
