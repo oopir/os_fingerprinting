{
 "cells": [
  {
   "cell_type": "markdown",
   "metadata": {},
   "source": [
    "### Imports & small functions"
   ]
  },
  {
   "cell_type": "code",
   "execution_count": 1,
   "metadata": {},
   "outputs": [],
   "source": [
    "import pickle\n",
    "import os\n",
    "from math import log, ceil\n",
    "\n",
    "from scapy.layers.inet import TCPOptions\n",
    "\n",
    "import numpy             as np\n",
    "import pandas            as pd\n",
    "\n",
    "from sklearn.compose         import make_column_transformer\n",
    "from sklearn.preprocessing   import OneHotEncoder, LabelEncoder\n",
    "from sklearn.model_selection import train_test_split\n",
    "\n",
    "import warnings\n",
    "warnings.filterwarnings('ignore')"
   ]
  },
  {
   "cell_type": "code",
   "execution_count": 2,
   "metadata": {},
   "outputs": [],
   "source": [
    "# opt_to_num = {opt:i  for i,opt  in enumerate(TCPOptions[1].keys())}\n",
    "# opt_to_num[\"NONE\"] = -1\n",
    "\n",
    "def get_os_label(nmap_output):\n",
    "    osclass = nmap_output[0]['osclass'][0]\n",
    "    return f\"{osclass['osfamily']}_{osclass['osgen']}\"\n",
    "    # return osclass['osfamily']\n",
    "\n",
    "\n",
    "def preprocess_curr_addr_features(curr_addr_features, curr_addr_label):\n",
    "    curr_addr_features['label'] = curr_addr_label\n",
    "    # curr_addr_features['ttl'] //= 10\n",
    "    curr_addr_features['ttl'] = 2 ** ceil(log(curr_addr_features['ttl'], 2))\n",
    "    # curr_addr_features['w_size'] //= 1000\n",
    "    # curr_addr_features['mss'] //= 100\n",
    "    curr_addr_features.pop('mss')\n",
    "\n",
    "    return curr_addr_features"
   ]
  },
  {
   "cell_type": "markdown",
   "metadata": {},
   "source": [
    "### Load information from files & create the dataset "
   ]
  },
  {
   "cell_type": "code",
   "execution_count": 3,
   "metadata": {},
   "outputs": [],
   "source": [
    "label_dir   = 'C:\\\\Users\\\\ofir\\\\OneDrive - mail.tau.ac.il\\\\personal\\\\my_p0f\\\\data\\\\ips_label_dict'\n",
    "feature_dir = 'C:\\\\Users\\\\ofir\\\\OneDrive - mail.tau.ac.il\\\\personal\\\\my_p0f\\\\data\\\\ips_feature_dict'\n",
    "all_data    = []\n",
    "\n",
    "for filename in sorted(os.listdir(label_dir))[:7000]:    \n",
    "    # print(f'working on {filename}...')\n",
    "    feature_file = open(f'{feature_dir}\\\\{filename}', 'rb')\n",
    "    label_file   = open(f'{label_dir}\\\\{filename}', 'rb')\n",
    "\n",
    "    ip_to_features = pickle.load(feature_file)\n",
    "    ip_to_label    = pickle.load(label_file)\n",
    "    \n",
    "    for addr in ip_to_features:\n",
    "        if  addr in ip_to_label           and  \\\n",
    "            ip_to_features[addr] != None  and  \\\n",
    "            ip_to_label[addr]    != []         :\n",
    "            \n",
    "            curr_addr_features = ip_to_features[addr]\n",
    "            curr_addr_label    = get_os_label(ip_to_label[addr])\n",
    "            \n",
    "            if len(curr_addr_label) != 0:\n",
    "                try:\n",
    "                    curr_addr_features = preprocess_curr_addr_features(curr_addr_features, curr_addr_label)\n",
    "                    all_data.append(curr_addr_features)\n",
    "                except Exception as e:\n",
    "                    print(f'error on {filename}')\n",
    "                    raise e\n",
    "\n",
    "    feature_file.close()\n",
    "    label_file.close()\n",
    "\n",
    "all_data_df = pd.DataFrame.from_dict(all_data)\n",
    "all_data_df['opts_str'] = all_data_df['opts'].copy(deep=True)\n",
    "all_data_df['opts'] = LabelEncoder().fit_transform(all_data_df['opts'])"
   ]
  },
  {
   "cell_type": "code",
   "execution_count": 4,
   "metadata": {},
   "outputs": [],
   "source": [
    "# with pd.option_context(\"display.max_rows\", 1000):\n",
    "#     print(all_data_df['label'].value_counts())"
   ]
  },
  {
   "cell_type": "markdown",
   "metadata": {},
   "source": [
    "### Balance, shuffle, split & encode"
   ]
  },
  {
   "cell_type": "code",
   "execution_count": 5,
   "metadata": {},
   "outputs": [],
   "source": [
    "# get rid of datapoints with a rare OS\n",
    "os_counts   = all_data_df.groupby('label').size().to_dict()\n",
    "common_os   = [os  for os in os_counts  if  os_counts[os] > 4000]\n",
    "all_data_df = all_data_df.loc[all_data_df['label'].isin(common_os)]\n",
    "\n",
    "# balance the dataset\n",
    "for label in all_data_df['label'].unique():\n",
    "    tmp_df      = all_data_df[all_data_df['label'] == label]\n",
    "    all_data_df = all_data_df[all_data_df['label'] != label]\n",
    "    all_data_df = pd.concat([all_data_df, tmp_df[:4000]])\n",
    "\n",
    "# shuffle dataframe\n",
    "all_data_df = all_data_df.sample(frac=1)"
   ]
  },
  {
   "cell_type": "code",
   "execution_count": 6,
   "metadata": {},
   "outputs": [],
   "source": [
    "X = all_data_df.drop('label', axis=1).drop('opts_str', axis=1)\n",
    "y = LabelEncoder().fit_transform(all_data_df['label'])\n",
    "\n",
    "NUM_CLASSES = all_data_df['label'].nunique()\n",
    "labels      = sorted(np.unique(y))\n",
    "\n",
    "\n",
    "X_train, X_test, y_train, y_test = train_test_split(X, y, test_size=0.2, random_state=11235)\n",
    "\n",
    "ct = make_column_transformer(\n",
    "    # (MinMaxScaler(), ['w_size', 'mss']),\n",
    "    # (OneHotEncoder(handle_unknown=\"ignore\"), ['w_scale'] + ['opt%d' % (i) for i in range(10)]),\n",
    "    (OneHotEncoder(handle_unknown=\"ignore\"), ['w_size', 'df', 'df+', 'df-', 'fo+', 'fo-', 'ecn', 'seq0', 'ttl', 'w_scale', 'opts']),\n",
    "    remainder='passthrough'\n",
    ")\n",
    "ct.fit(X_train)\n",
    "\n",
    "X_train_normal, X_test_normal = ct.transform(X_train), ct.transform(X_test)"
   ]
  }
 ],
 "metadata": {
  "kernelspec": {
   "display_name": "Python 3.10.6 64-bit",
   "language": "python",
   "name": "python3"
  },
  "language_info": {
   "codemirror_mode": {
    "name": "ipython",
    "version": 3
   },
   "file_extension": ".py",
   "mimetype": "text/x-python",
   "name": "python",
   "nbconvert_exporter": "python",
   "pygments_lexer": "ipython3",
   "version": "3.10.6"
  },
  "orig_nbformat": 4,
  "vscode": {
   "interpreter": {
    "hash": "26de051ba29f2982a8de78e945f0abaf191376122a1563185a90213a26c5da77"
   }
  }
 },
 "nbformat": 4,
 "nbformat_minor": 2
}
