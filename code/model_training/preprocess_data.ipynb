{
 "cells": [
  {
   "cell_type": "markdown",
   "metadata": {},
   "source": [
    "### Imports & small functions"
   ]
  },
  {
   "cell_type": "code",
   "execution_count": 1,
   "metadata": {},
   "outputs": [],
   "source": [
    "import pickle\n",
    "import os\n",
    "from math import log, ceil\n",
    "\n",
    "from scapy.layers.inet import TCPOptions\n",
    "\n",
    "import numpy  as np\n",
    "import pandas as pd\n",
    "\n",
    "from sklearn.compose         import make_column_transformer\n",
    "from sklearn.preprocessing   import OneHotEncoder, LabelEncoder\n",
    "from sklearn.model_selection import train_test_split\n",
    "\n",
    "import warnings\n",
    "warnings.filterwarnings('ignore')"
   ]
  },
  {
   "cell_type": "code",
   "execution_count": 2,
   "metadata": {},
   "outputs": [],
   "source": [
    "MAX_FILES = 10000\n",
    "MIN_OS_COUNTS = 4100"
   ]
  },
  {
   "cell_type": "code",
   "execution_count": 3,
   "metadata": {},
   "outputs": [],
   "source": [
    "# opt_to_num = {opt:i  for i,opt  in enumerate(TCPOptions[1].keys())}\n",
    "# opt_to_num[\"NONE\"] = -1\n",
    "\n",
    "def get_os_label(nmap_output):\n",
    "    osclass = nmap_output[0]['osclass'][0]\n",
    "    return f\"{osclass['osfamily']}_{osclass['osgen']}\"\n",
    "    # return osclass['osfamily']\n",
    "\n",
    "\n",
    "def preprocess_curr_addr_features(curr_addr_features, curr_addr_label):\n",
    "    curr_addr_features['label'] = curr_addr_label\n",
    "    # curr_addr_features['ttl'] //= 10\n",
    "    curr_addr_features['ttl'] = 2 ** ceil(log(curr_addr_features['ttl'], 2))\n",
    "    # curr_addr_features['w_size'] //= 1000\n",
    "    # curr_addr_features['mss'] //= 100\n",
    "    curr_addr_features.pop('mss')\n",
    "\n",
    "    return curr_addr_features"
   ]
  },
  {
   "cell_type": "markdown",
   "metadata": {},
   "source": [
    "### Load information from files & create the dataset "
   ]
  },
  {
   "cell_type": "code",
   "execution_count": 4,
   "metadata": {},
   "outputs": [],
   "source": [
    "label_dir   = 'C:\\\\Users\\\\ofir\\\\OneDrive - mail.tau.ac.il\\\\personal\\\\my_p0f\\\\data\\\\ips_label_dict'\n",
    "feature_dir = 'C:\\\\Users\\\\ofir\\\\OneDrive - mail.tau.ac.il\\\\personal\\\\my_p0f\\\\data\\\\ips_feature_dict'\n",
    "all_data    = []\n",
    "\n",
    "for filename in sorted(os.listdir(label_dir))[:MAX_FILES]:    \n",
    "    # print(f'working on {filename}...')\n",
    "    feature_file = open(f'{feature_dir}\\\\{filename}', 'rb')\n",
    "    label_file   = open(f'{label_dir}\\\\{filename}', 'rb')\n",
    "\n",
    "    ip_to_features = pickle.load(feature_file)\n",
    "    ip_to_label    = pickle.load(label_file)\n",
    "    \n",
    "    for addr in ip_to_features:\n",
    "        if  addr in ip_to_label           and  \\\n",
    "            ip_to_features[addr] != None  and  \\\n",
    "            ip_to_label[addr]    != []         :\n",
    "            \n",
    "            curr_addr_features = ip_to_features[addr]\n",
    "            curr_addr_label    = get_os_label(ip_to_label[addr])\n",
    "            \n",
    "            if len(curr_addr_label) != 0:\n",
    "                try:\n",
    "                    curr_addr_features = preprocess_curr_addr_features(curr_addr_features, curr_addr_label)\n",
    "                    all_data.append(curr_addr_features)\n",
    "                except Exception as e:\n",
    "                    print(f'error on {filename}')\n",
    "                    raise e\n",
    "\n",
    "    feature_file.close()\n",
    "    label_file.close()\n",
    "\n",
    "all_data_df = pd.DataFrame.from_dict(all_data)\n",
    "all_data_df['opts_str'] = all_data_df['opts'].copy(deep=True)\n",
    "all_data_df['opts'] = LabelEncoder().fit_transform(all_data_df['opts'])"
   ]
  },
  {
   "cell_type": "code",
   "execution_count": 5,
   "metadata": {},
   "outputs": [
    {
     "name": "stdout",
     "output_type": "stream",
     "text": [
      "Linux_4.X                    110824\n",
      "Linux_3.X                     88485\n",
      "embedded_None                 76809\n",
      "FreeBSD_6.X                   72072\n",
      "Linux_2.6.X                   50978\n",
      "Linux_5.X                     12392\n",
      "Windows_2012                   9014\n",
      "OpenBSD_4.X                    7041\n",
      "Windows_2016                   6224\n",
      "Linux_None                     5634\n",
      "RISC OS_6.X                    4019\n",
      "Linux_2.4.X                    2925\n",
      "FreeBSD_11.X                   2883\n",
      "ZyNOS_3.X                      2678\n",
      "Windows_Vista                  2395\n",
      "Windows_98                     2181\n",
      "Windows_2008                   1162\n",
      "Symbian OS_None                1052\n",
      "Android_5.X                     806\n",
      "Windows_XP                      690\n",
      "Mac OS X_10.5.X                 517\n",
      "Mac OS X_10.4.X                 413\n",
      "Windows_2003                    371\n",
      "FreeBSD_12.X                    362\n",
      "Windows_7                       356\n",
      "Apple TV_5.X                    304\n",
      "HiveOS_6.X                      179\n",
      "ZyNOS_4.X                       178\n",
      "Android_7.X                     160\n",
      "VM Server_3.X                   147\n",
      "OpenBSD_6.X                      80\n",
      "Windows_10                       73\n",
      "NetBSD_6.X                       64\n",
      "Solaris_10                       62\n",
      "iOS_4.X                          56\n",
      "FreeBSD_9.X                      48\n",
      "ASA_8.X                          44\n",
      "iOS_11.X                         42\n",
      "iOS_8.X                          41\n",
      "Windows_8.1                      37\n",
      "IVE OS_7.X                       35\n",
      "TMOS_11.6.X                      28\n",
      "pSOS_1.X                         25\n",
      "Windows_2000                     21\n",
      "iOS_5.X                          19\n",
      "iOS_6.X                          18\n",
      "RAIDiator_4.X                    17\n",
      "Windows_Phone                    14\n",
      "Solaris_11                       14\n",
      "ThinOS_7.X                       12\n",
      "ExtremeXOS_12.X                  10\n",
      "ThinOS_5.X                        9\n",
      "ESXi_4.X                          8\n",
      "RouterOS_6.X                      8\n",
      "AIX_5.X                           7\n",
      "FreeBSD_8.X                       7\n",
      "VNX OE for File_7.X               6\n",
      "FreeBSD_4.X                       6\n",
      "Windows_8                         6\n",
      "SmartOS_None                      6\n",
      "OpenBSD_5.X                       5\n",
      "ZyNOS_2.X                         5\n",
      "OS X_10.11.X                      4\n",
      "FreeBSD_10.X                      4\n",
      "Symbian OS_9.X                    4\n",
      "FreeBSD_5.X                       4\n",
      "Mac OS X_10.6.X                   3\n",
      "iPhone OS_3.X                     3\n",
      "Windows_3.X                       2\n",
      "TMOS_9.1.X                        2\n",
      "DragonFly BSD_4.X                 2\n",
      "IOS_12.X                          2\n",
      "Solaris_9                         2\n",
      "2-Series_None                     2\n",
      "BlackBerry_7.X                    2\n",
      "AIX_7.X                           2\n",
      "ThinOS_None                       2\n",
      "OS X_10.8.X                       2\n",
      "iOS_9.X                           2\n",
      "VRP_5.X                           1\n",
      "IPSO_4.X                          1\n",
      "JUNOS_12.X                        1\n",
      "Minix_2.X                         1\n",
      "IOS_11.X                          1\n",
      "HP-UX_11.X                        1\n",
      "OpenSolaris_None                  1\n",
      "OneFS_None                        1\n",
      "i_6.X                             1\n",
      "ASA_7.X                           1\n",
      "RouterOS_5.X                      1\n",
      "Onboard Administrator_4.X         1\n",
      "AsyncOS_7.X                       1\n",
      "Digital UNIX_4.X                  1\n",
      "IOS_15.X                          1\n",
      "Name: label, dtype: int64\n"
     ]
    }
   ],
   "source": [
    "with pd.option_context(\"display.max_rows\", 1000):\n",
    "    print(all_data_df['label'].value_counts())"
   ]
  },
  {
   "cell_type": "markdown",
   "metadata": {},
   "source": [
    "### Balance, shuffle, split & encode"
   ]
  },
  {
   "cell_type": "code",
   "execution_count": 7,
   "metadata": {},
   "outputs": [],
   "source": [
    "# get rid of datapoints with a rare OS\n",
    "os_counts   = all_data_df.groupby('label').size().to_dict()\n",
    "common_os   = [os  for os in os_counts  if  os_counts[os] > MIN_OS_COUNTS]\n",
    "all_data_df = all_data_df.loc[all_data_df['label'].isin(common_os)]\n",
    "\n",
    "# balance the dataset\n",
    "for label in all_data_df['label'].unique():\n",
    "    tmp_df      = all_data_df[all_data_df['label'] == label]\n",
    "    all_data_df = all_data_df[all_data_df['label'] != label]\n",
    "    all_data_df = pd.concat([all_data_df, tmp_df[:MIN_OS_COUNTS]])\n",
    "\n",
    "# shuffle dataframe\n",
    "all_data_df = all_data_df.sample(frac=1)"
   ]
  },
  {
   "cell_type": "code",
   "execution_count": 6,
   "metadata": {},
   "outputs": [],
   "source": [
    "X = all_data_df.drop('label', axis=1).drop('opts_str', axis=1)\n",
    "y = LabelEncoder().fit_transform(all_data_df['label'])\n",
    "\n",
    "NUM_CLASSES = all_data_df['label'].nunique()\n",
    "labels      = sorted(np.unique(y))\n",
    "\n",
    "\n",
    "X_train, X_test, y_train, y_test = train_test_split(X, y, test_size=0.2, random_state=11235)\n",
    "\n",
    "ct = make_column_transformer(\n",
    "    # (MinMaxScaler(), ['w_size', 'mss']),\n",
    "    # (OneHotEncoder(handle_unknown=\"ignore\"), ['w_scale'] + ['opt%d' % (i) for i in range(10)]),\n",
    "    (OneHotEncoder(handle_unknown=\"ignore\"), ['w_size', 'df', 'df+', 'df-', 'fo+', 'fo-', 'ecn', 'seq0', 'ttl', 'w_scale', 'opts']),\n",
    "    remainder='passthrough'\n",
    ")\n",
    "ct.fit(X_train)\n",
    "\n",
    "X_all_normal, X_train_normal, X_test_normal = ct.transform(X), ct.transform(X_train), ct.transform(X_test)"
   ]
  }
 ],
 "metadata": {
  "kernelspec": {
   "display_name": "Python 3.10.6 64-bit",
   "language": "python",
   "name": "python3"
  },
  "language_info": {
   "codemirror_mode": {
    "name": "ipython",
    "version": 3
   },
   "file_extension": ".py",
   "mimetype": "text/x-python",
   "name": "python",
   "nbconvert_exporter": "python",
   "pygments_lexer": "ipython3",
   "version": "3.10.6"
  },
  "orig_nbformat": 4,
  "vscode": {
   "interpreter": {
    "hash": "26de051ba29f2982a8de78e945f0abaf191376122a1563185a90213a26c5da77"
   }
  }
 },
 "nbformat": 4,
 "nbformat_minor": 2
}
