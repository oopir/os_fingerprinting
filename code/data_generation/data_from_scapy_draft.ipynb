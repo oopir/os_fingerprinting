{
 "cells": [
  {
   "cell_type": "code",
   "execution_count": 2,
   "metadata": {},
   "outputs": [],
   "source": [
    "import logging\n",
    "logging.getLogger(\"scapy.runtime\").setLevel(logging.ERROR)\n",
    "from scapy.all import *\n",
    "from scapy.layers.inet import IP,TCP\n",
    "import requests\n",
    "from random import randint\n",
    "import pickle\n",
    "from concurrent.futures import ThreadPoolExecutor"
   ]
  },
  {
   "cell_type": "code",
   "execution_count": 12,
   "metadata": {},
   "outputs": [],
   "source": [
    "def get_tcp_opt(p, opt, default):\n",
    "    if opt in map(lambda tup : tup[0], p['TCP'].options):\n",
    "        return reduce(lambda opt1,opt2 : opt1 if opt1[0]==opt else opt2, p['TCP'].options)[1]\n",
    "    return default\n",
    "\n",
    "def send_http_req(ip):\n",
    "    try:\n",
    "        tmp = requests.get(f'https://{ip}')\n",
    "    except:\n",
    "        pass"
   ]
  },
  {
   "cell_type": "code",
   "execution_count": 22,
   "metadata": {},
   "outputs": [],
   "source": [
    "ips, features = [], {}\n",
    "\n",
    "sniffer = AsyncSniffer(filter='src port 443 and tcp[tcpflags] & (tcp-syn|tcp-ack|tcp-push) == (tcp-syn|tcp-ack)')\n",
    "sniffer.start()\n",
    "\n",
    "src_dir = 'C:\\\\Users\\\\ofir\\\\Downloads\\\\data\\\\ips'\n",
    "for filename in sorted(os.listdir(src_dir))[:5]:\n",
    "    print(f'working on {filename}...')\n",
    "    with open('%s\\\\%s' % (src_dir, filename), 'rt') as curr_input_file:\n",
    "        ips = list(map(lambda line : line.rstrip('\\n'), curr_input_file))\n",
    "    \n",
    "    with ThreadPoolExecutor(max_workers = 100) as executor:\n",
    "        executor.map(send_http_req, ips)\n",
    "\n",
    "res = sniffer.stop()"
   ]
  },
  {
   "cell_type": "code",
   "execution_count": 24,
   "metadata": {},
   "outputs": [],
   "source": [
    "for SA in res:\n",
    "    curr_data = {\n",
    "        'df'      : 1 if 'DF' in str(SA['IP'].flags) else 0 ,\n",
    "        'ttl'     : SA['IP'].ttl ,\n",
    "        'w_size'  : SA['TCP'].window ,\n",
    "        'mss'     : get_tcp_opt(SA, 'MSS', default=-1) ,\n",
    "        'w_scale' : get_tcp_opt(SA, 'WScale', default=1) ,\n",
    "\n",
    "        'df+'  : 1  if (    'DF' in str(SA['IP'].flags) and not SA['IP'].id)    else 0 ,\n",
    "        'df-'  : 1  if (not 'DF' in str(SA['IP'].flags) and     SA['IP'].id)    else 0 ,\n",
    "        'fo+'  : 1  if (not 'DF' in str(SA['IP'].flags) and     SA['IP'].frag)  else 0 ,\n",
    "        'fo-'  : 1  if (    'DF' in str(SA['IP'].flags) and not SA['IP'].frag)  else 0 ,\n",
    "\n",
    "        'ecn'  : 1  if ('E' in SA['TCP'].flags)                                else 0 ,\n",
    "        'seq0' : 1  if (SA['TCP'].seq == 0)                                    else 0 ,\n",
    "\n",
    "        'opts' : ','.join([opt[0] for opt in SA['TCP'].options])\n",
    "    }\n",
    "    features[SA['IP'].src] = curr_data"
   ]
  },
  {
   "cell_type": "code",
   "execution_count": 25,
   "metadata": {},
   "outputs": [
    {
     "data": {
      "text/plain": [
       "MSS,NOP,NOP,SAckOK,NOP,WScale    399\n",
       "MSS,NOP,WScale,NOP,NOP,SAckOK     32\n",
       "MSS,NOP,WScale,SAckOK,EOL         16\n",
       "MSS,SAckOK,EOL                    13\n",
       "MSS,NOP,WScale                     7\n",
       "MSS                                1\n",
       "MSS,NOP,NOP,SAckOK                 1\n",
       "MSS,WScale,NOP,SAckOK,NOP,NOP      1\n",
       "dtype: int64"
      ]
     },
     "execution_count": 25,
     "metadata": {},
     "output_type": "execute_result"
    }
   ],
   "source": [
    "# for p in res:\n",
    "#     print(f\"src:{p['IP'].src}:{p['TCP'].sport}\\n\\t{p['TCP'].options}\")\n",
    "import pandas as pd\n",
    "# df = pd.DataFrame.from_dict(features.values())\n",
    "# df.describe()\n",
    "\n",
    "df = pd.DataFrame(map(lambda val : val['opts'], list(features.values())))\n",
    "df.value_counts()"
   ]
  },
  {
   "cell_type": "code",
   "execution_count": null,
   "metadata": {},
   "outputs": [],
   "source": []
  }
 ],
 "metadata": {
  "kernelspec": {
   "display_name": "Python 3.10.6 64-bit",
   "language": "python",
   "name": "python3"
  },
  "language_info": {
   "codemirror_mode": {
    "name": "ipython",
    "version": 3
   },
   "file_extension": ".py",
   "mimetype": "text/x-python",
   "name": "python",
   "nbconvert_exporter": "python",
   "pygments_lexer": "ipython3",
   "version": "3.10.6"
  },
  "orig_nbformat": 4,
  "vscode": {
   "interpreter": {
    "hash": "26de051ba29f2982a8de78e945f0abaf191376122a1563185a90213a26c5da77"
   }
  }
 },
 "nbformat": 4,
 "nbformat_minor": 2
}
