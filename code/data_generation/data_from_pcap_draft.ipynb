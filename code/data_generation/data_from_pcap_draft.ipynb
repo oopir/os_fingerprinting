{
 "cells": [
  {
   "cell_type": "code",
   "execution_count": 9,
   "metadata": {},
   "outputs": [],
   "source": [
    "import pyshark\n",
    "import pandas as pd\n",
    "import sys"
   ]
  },
  {
   "cell_type": "code",
   "execution_count": 19,
   "metadata": {},
   "outputs": [],
   "source": [
    "capture = pyshark.FileCapture(r\"C:\\Users\\user\\OneDrive - mail.tau.ac.il\\personal\\os_classifier\\data_cleaning\\nmap_300_pcap.pcapng\")"
   ]
  },
  {
   "cell_type": "code",
   "execution_count": null,
   "metadata": {},
   "outputs": [],
   "source": [
    "tcp_inbound = list(filter(lambda p : p.ip.dst == '192.168.1.12' and 'tcp' in p, capture))"
   ]
  },
  {
   "cell_type": "code",
   "execution_count": null,
   "metadata": {},
   "outputs": [],
   "source": [
    "def get_opts_order(p):\n",
    "    if not hasattr(p.tcp, \"options\"):\n",
    "        return ''\n",
    "    i = 0\n",
    "    opt_split = p.tcp.options.split(\":\")\n",
    "    opt_order = []\n",
    "    while i < len(opt_split):\n",
    "        curr_opt = opt_split[i]\n",
    "        opt_order.append(curr_opt)\n",
    "        i += 1\n",
    "        if curr_opt == '01' or curr_opt == '00':\n",
    "            continue\n",
    "        else:\n",
    "            # read option's length field & jump to the next option\n",
    "            i += int(opt_split[i], 16) - 1\n",
    "    return '-'.join(opt_order)"
   ]
  },
  {
   "cell_type": "code",
   "execution_count": null,
   "metadata": {},
   "outputs": [],
   "source": [
    "def check_nonzero(p):\n",
    "    # if there's a Timestamp & ACK is not set, make sure TSecr is 0\n",
    "    if  hasattr(p.tcp, \"options\") and (not p.tcp.flags_ack.base16_value):\n",
    "        pass        "
   ]
  },
  {
   "cell_type": "code",
   "execution_count": null,
   "metadata": {},
   "outputs": [],
   "source": [
    "data = []\n",
    "\n",
    "for p in tcp_inbound:\n",
    "    p_data = {}\n",
    "    p_data['ttl'] = p.ip.ttl.base16_value\n",
    "    p_data['df']  = p.ip.flags_df.base16_value\n",
    "    p_data['mss'] = -1\n",
    "    if hasattr(p.tcp, 'options_mss_val'):\n",
    "        p_data['mss'] = p.tcp.options_mss_val.base16_value\n",
    "    p_data['w_size'] = p.tcp.window_size.base16_value\n",
    "    p_data['w_scale'] = 1\n",
    "    if hasattr(p.tcp, 'options_wscale_shift'):\n",
    "        p_data['w_scale'] = p.tcp.options_wscale_shift.base16_value\n",
    "    p_data['opts_order'] = get_opts_order(p)\n",
    "    p_data['df+'] = 1 if (p.ip.flags_df.base16_value and not p.ip.id.base16_value) else 0\n",
    "    p_data['df-'] = 1 if (not p.ip.flags_df.base16_value and p.ip.id.base16_value) else 0\n",
    "    p_data['fo+'] = 1 if (not p.ip.flags_df.base16_value and p.ip.frag_offset.base16_value) else 0\n",
    "    p_data['fo-'] = 1 if (p.ip.flags_df.base16_value and not p.ip.frag_offset.base16_value) else 0\n",
    "    p_data['ecn'] = p.ip.dsfield_ecn.base16_value\n",
    "    p_data['seq0'] = 1 if (p.tcp.seq_raw.base16_value == 0) else 0\n",
    "    data.append(p_data)"
   ]
  },
  {
   "cell_type": "code",
   "execution_count": null,
   "metadata": {},
   "outputs": [],
   "source": [
    "pd.DataFrame.from_dict(data).to_csv(sys.argv[1])"
   ]
  }
 ],
 "metadata": {
  "kernelspec": {
   "display_name": "Python 3.10.6 64-bit",
   "language": "python",
   "name": "python3"
  },
  "language_info": {
   "codemirror_mode": {
    "name": "ipython",
    "version": 3
   },
   "file_extension": ".py",
   "mimetype": "text/x-python",
   "name": "python",
   "nbconvert_exporter": "python",
   "pygments_lexer": "ipython3",
   "version": "3.10.6"
  },
  "orig_nbformat": 4,
  "vscode": {
   "interpreter": {
    "hash": "26de051ba29f2982a8de78e945f0abaf191376122a1563185a90213a26c5da77"
   }
  }
 },
 "nbformat": 4,
 "nbformat_minor": 2
}
